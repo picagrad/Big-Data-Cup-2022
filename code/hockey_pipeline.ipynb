{
 "cells": [
  {
   "cell_type": "code",
   "execution_count": 99,
   "metadata": {},
   "outputs": [],
   "source": [
    "import numpy as np\n",
    "import pandas as pd\n",
    "from scipy.stats import norm\n",
    "\n",
    "MAX_TIME = 2\n",
    "EPS = 1e-7\n",
    "GG = 32.174\n",
    "\n",
    "METRICS = ['prob','rink_ctrl','best_case','expected']\n",
    "TIME_PENALTY = 0.1\n",
    "MAX_VEL=35.5   # maximum skater velocity in ft/sec\n",
    "A = 1.3 # acceleration coefficient (not directly acceleration, but more like a speed decay)\n",
    "TR = 0.189 # reaction time (based on the article Phil sent) \n",
    "MM = 0.1 # Coefficient of friction between puck and ice, I'll find the source for this\n",
    "BETA_PUCK = 0.1322 # Puck air drag coefficient (actuall it's the coefficient divided by the mass so beta = k/m if k is the drag coefficient)\n",
    "BETA_CTRL = 2.5 # pitch control coefficient used as beta in ice_ctrl_xyt and teamwise_ice_ctrl_xyt, taken from the Spearman paper\n",
    "X_DECAY = 2000 #value used as decay_x\n",
    "Y_DECAY = 500 #value used as decay_y\n",
    "GOALIE_DIST = 8 # maximum reasonable distance for goalie to go away from goal\n",
    "GLX = 11 # Goalie X coord\n",
    "GLY = 42.5  # Goalie Y coord\n",
    "STICK = 5 # Stick length \n",
    "TARGET_RADIUS = 27.5\n",
    "\n",
    "def inside_boards(x: np.ndarray,y: np.ndarray, t:np.ndarray,\n",
    "                  target_radius: float = TARGET_RADIUS):\n",
    "    radius = (x<28) * ((y>57)*((x-28)**2 + (y-57)**2)**0.5 + (y<28)*((x-28)**2 + (28-y)**2)**0.5)\n",
    "    ix = (radius<=target_radius) & (x<100) & (y<85) & (y>0) & (x>0)\n",
    "    return x[ix],y[ix],t[ix]\n",
    "\n",
    "class tracks():\n",
    "    def __init__(self,\n",
    "                x: np.ndarray, # x locations of players (array or list of floats) \n",
    "                y: np.ndarray, # y locations of players (array or list of floats)\n",
    "                vx: np.ndarray, # x velocity of players (array or list of floats)\n",
    "                vy: np.ndarray, # y velocity of players (array or list of floats)\n",
    "                goalie: int, # column number for goalie\n",
    "                puck: np.ndarray, # array or list of booleans for which player has the puck\n",
    "                off: np.ndarray, # array or list of integers +1 for offence, -1 for defence (or true and false)\n",
    "                vp: float = 55,\n",
    "                phi_res: float = 0.05,\n",
    "                t_res: float = 0.05,\n",
    "                metric: str = 'expected'):\n",
    "        assert len(set([len(x),len(y),len(vx),len(vy),len(off)]))<=2\n",
    "        if not metric in METRICS:\n",
    "            raise ValueError('Metric choice is not in recognized metric list, please choose another metric')\n",
    "        self.metric = metric\n",
    "        self.xp = x[puck == 1]\n",
    "        self.yp = y[puck == 1]\n",
    "        self.puck = puck\n",
    "        self.phi_res = phi_res\n",
    "        self.off = np.where(off==1,1,-1)\n",
    "        self.t_res = t_res\n",
    "        self.vp = vp\n",
    "        self.x = x\n",
    "        self.y = y\n",
    "        self.vx = vx\n",
    "        self.vy = vy\n",
    "        self.goalie = goalie\n",
    "        # self.tracks = pd.DataFrame({'x':x,'y':y,'vx':vx,'vy':vy,'goalie':goalie,'off':off})\n",
    "        self.grid = np.concatenate([self.one_pass(self, phi)() for phi in np.arange(-np.pi,np.pi+EPS, phi_res)], axis = 0) \n",
    "\n",
    "\n",
    "    class one_pass():\n",
    "        def __init__(self, outer_self: 'tracks', phi: float):\n",
    "            self.t_res = outer_self.t_res\n",
    "            self.phi = phi\n",
    "            self.x0 = outer_self.xp\n",
    "            self.y0 = outer_self.yp\n",
    "            self.vp = outer_self.vp\n",
    "            self.grid = self.make_grid()\n",
    "            self.outside_creese = (self.grid.x-GLX)**2 + (self.grid.y-GLY)**2 > GOALIE_DIST**2\n",
    "            self.get_metric(outer_self, outer_self.metric)\n",
    "        \n",
    "        def make_grid(self):\n",
    "            t = np.arange(self.t_res,MAX_TIME,self.t_res)\n",
    "            x, y = self.puck_motion_model(t,self.x0,self.y0)\n",
    "            x,y,t = inside_boards(x,y,t)\n",
    "            return pd.DataFrame({'x':x,'y':y,'t':t}) \n",
    "\n",
    "        def puck_motion_model(self,t: np.ndarray,\n",
    "                                    phi: float,\n",
    "                                    mu:float = MM, \n",
    "                                    beta: float = BETA_PUCK, \n",
    "                                    g: float = GG):\n",
    "                vx = self.vp*np.sin(self.phi)\n",
    "                vy = self.vp*np.cos(self.phi)\n",
    "                \n",
    "                x =  self.x0 + (vx + mu*g * vx/self.vp/beta) * (1 - np.exp(-beta * t))/beta - (mu*g * vx/self.vp)/beta * t\n",
    "                y = self.y0 + (vy + mu*g * vy/self.vp/beta) * (1 - np.exp(-beta * t))/beta - (mu*g * vy/self.vp)/beta * t\n",
    "                \n",
    "                return x, y\n",
    "        \n",
    "        def score_prob(self, decay_x = X_DECAY, decay_y = Y_DECAY):\n",
    "            # Scoring Probability function \n",
    "            x = self.grid.x\n",
    "            y = self.grid.y\n",
    "            self.score = (np.abs((x-11)/((42.5-y)**2+(11-x)**2)**0.5)+1)/np.where(x<11,8,4)*np.exp(-((11-x)**2/decay_x +(42.5-y)**2/decay_y))\n",
    "\n",
    "\n",
    "        def dist_to_xyt(self,x0: float,\n",
    "                             y0: float,\n",
    "                             vx: float,\n",
    "                             vy: float, \n",
    "                             vmax: float = MAX_VEL, \n",
    "                             alpha:float = A, \n",
    "                             t_r: float =  TR):\n",
    "                # If time is smaller than reaction time, skater keeps going at initial speed\n",
    "            t = self.grid.t\n",
    "            tx = self.grid.x\n",
    "            ty = self.grid.y\n",
    "\n",
    "            c_x = np.where(t<t_r, x0 + vx * t, x0 + t_r * vx + vx * (1-np.exp(-alpha * (t-t_r))/alpha))\n",
    "            c_y = np.where(t<t_r, y0 + vy * t, y0 + t_r * vy + vy * (1-np.exp(-alpha * (t-t_r))/alpha))\n",
    "            r = np.where(t<t_r,0,vmax * (t -t_r - (1-np.exp(-alpha * (t-t_r)))/alpha)) \n",
    "\n",
    "            remaining_dist = ((tx-c_x)**2 + (ty-c_y)**2)**0.5-r\n",
    "            return(np.maximum(remaining_dist,EPS))\n",
    "        \n",
    "                \n",
    "        def get_metric(self,outer_self: 'tracks', metric: str = 'prob'):\n",
    "            dists = np.array([self.dist_to_xyt(x0,y0,vx,vy) for x0,y0,vx,vy in zip(outer_self.x, outer_self.y, outer_self.vx, outer_self.vy)]).T\n",
    "            dists[self.outside_creese,outer_self.goalie]  = np.maximum(dists[self.outside_creese,outer_self.goalie], ((self.grid.x[self.outside_creese]-GLX)**2 + (self.grid.y[self.outside_creese]-GLY)**2)**0.5 - GOALIE_DIST)\n",
    "            ctrl =(dists/MAX_VEL)**(-BETA_CTRL)* outer_self.off.reshape(1,-1)\n",
    "            all_ctrl = ctrl.sum(1)/np.abs(ctrl).sum(1)\n",
    "            if metric == 'rink_ctrl':\n",
    "                self.metric = all_ctrl\n",
    "                return 0\n",
    "            dists = np.delete(dists, outer_self.goalie,axis = 1)\n",
    "            base_probs = self.t_res * (norm.cdf(dists/STICK+1)-norm.cdf(dists/STICK-1))/TIME_PENALTY\n",
    "            ranks = (-base_probs).argsort()\n",
    "            # print(ranks.shape, base_probs.shape)\n",
    "            ranked_probs = np.take_along_axis(base_probs,ranks,1)\n",
    "            off_mat = np.delete(outer_self.off, outer_self.goalie)[ranks]\n",
    "            # print(off_mat)\n",
    "            # print(np.concatenate((np.ones((1,dists.shape[1])),1-ranked_probs[:-1,:]),0).cumprod(1).shape)\n",
    "            adj_probs = np.concatenate((np.ones((1,dists.shape[1])),1-ranked_probs[:-1,:]),0).cumprod(1)*ranked_probs\n",
    "            # print(adj_probs.shape)\n",
    "            adj_pass_off = (adj_probs*(off_mat==1)).sum(1)\n",
    "            # pass_def = adj_probs[~off_mat] # Not sure we actually need this line\n",
    "            missed = 1 - adj_probs.sum(1)\n",
    "            missed = np.append(1,missed[:-1]).cumprod()\n",
    "            pass_off = adj_pass_off * missed\n",
    "            if metric == 'prob':\n",
    "                self.metric = pass_off.sum()  * np.ones(self.grid.x.shape)\n",
    "            if metric == 'best_case':\n",
    "                self.score_prob()\n",
    "                adj_pass_value = self.score*all_ctrl*adj_pass_off\n",
    "                self.metric = adj_pass_value.max() * np.ones(self.grid.x.shape)\n",
    "\n",
    "            elif metric == 'expected':\n",
    "                self.score_prob()\n",
    "                loc_pass_value = self.score*all_ctrl*pass_off\n",
    "                self.metric = loc_pass_value.sum() * np.ones(self.grid.x.shape)\n",
    "\n",
    "        def __call__(self):\n",
    "            return(np.stack((self.grid.x,self.grid.y,self.grid.t,self.metric),1))    \n",
    "\n"
   ]
  },
  {
   "cell_type": "code",
   "execution_count": 100,
   "metadata": {},
   "outputs": [],
   "source": [
    "x=200-np.array([171.4262, 155.6585, 153.7146, 150.5869, 156.3463, 179.8383, 180.8131, 186.6146, 179.9982])\n",
    "y=np.array([49.31514, 48.25991, 70.17542, 13.65429, 28.51970, 38.44596, 36.80571, 38.32781, 22.03946])\n",
    "vx=np.array([6.725073,  4.964445, -3.097599, 14.252625,  4.286796,  1.925091, -2.295729, -0.294258,  6.464229])\n",
    "vy=np.array([-7.1037417,  -7.9677960,  -6.4446342,   6.5618985, -10.9455216,  -4.7444208,  -4.1465373,  -0.3377985, -5.4265284])\n",
    "goalie = 7\n",
    "puck=np.array([False,False,False,True,False,False,False,False,False])\n",
    "off=np.array([-1, -1, 1, 1, -1, 1, -1, -1, 1])\n",
    "all_tracks = tracks(x,y,vx,vy,goalie,puck,off,metric='expected')\n"
   ]
  },
  {
   "cell_type": "code",
   "execution_count": 104,
   "metadata": {},
   "outputs": [
    {
     "ename": "ValueError",
     "evalue": "'color' kwarg must be a color or sequence of color specs.  For a sequence of values to be color-mapped, use the 'c' argument instead.",
     "output_type": "error",
     "traceback": [
      "\u001b[0;31m---------------------------------------------------------------------------\u001b[0m",
      "\u001b[0;31mValueError\u001b[0m                                Traceback (most recent call last)",
      "File \u001b[0;32m~/.pyenv/versions/3.9.7/lib/python3.9/site-packages/matplotlib/axes/_axes.py:4153\u001b[0m, in \u001b[0;36mAxes._parse_scatter_color_args\u001b[0;34m(c, edgecolors, kwargs, xsize, get_next_color_func)\u001b[0m\n\u001b[1;32m   4152\u001b[0m \u001b[39mtry\u001b[39;00m:\n\u001b[0;32m-> 4153\u001b[0m     mcolors\u001b[39m.\u001b[39;49mto_rgba_array(kwcolor)\n\u001b[1;32m   4154\u001b[0m \u001b[39mexcept\u001b[39;00m \u001b[39mValueError\u001b[39;00m \u001b[39mas\u001b[39;00m err:\n",
      "File \u001b[0;32m~/.pyenv/versions/3.9.7/lib/python3.9/site-packages/matplotlib/colors.py:377\u001b[0m, in \u001b[0;36mto_rgba_array\u001b[0;34m(c, alpha)\u001b[0m\n\u001b[1;32m    376\u001b[0m \u001b[39melse\u001b[39;00m:\n\u001b[0;32m--> 377\u001b[0m     rgba \u001b[39m=\u001b[39m np\u001b[39m.\u001b[39marray([to_rgba(cc) \u001b[39mfor\u001b[39;00m cc \u001b[39min\u001b[39;00m c])\n\u001b[1;32m    379\u001b[0m \u001b[39mif\u001b[39;00m alpha \u001b[39mis\u001b[39;00m \u001b[39mnot\u001b[39;00m \u001b[39mNone\u001b[39;00m:\n",
      "File \u001b[0;32m~/.pyenv/versions/3.9.7/lib/python3.9/site-packages/matplotlib/colors.py:377\u001b[0m, in \u001b[0;36m<listcomp>\u001b[0;34m(.0)\u001b[0m\n\u001b[1;32m    376\u001b[0m \u001b[39melse\u001b[39;00m:\n\u001b[0;32m--> 377\u001b[0m     rgba \u001b[39m=\u001b[39m np\u001b[39m.\u001b[39marray([to_rgba(cc) \u001b[39mfor\u001b[39;00m cc \u001b[39min\u001b[39;00m c])\n\u001b[1;32m    379\u001b[0m \u001b[39mif\u001b[39;00m alpha \u001b[39mis\u001b[39;00m \u001b[39mnot\u001b[39;00m \u001b[39mNone\u001b[39;00m:\n",
      "File \u001b[0;32m~/.pyenv/versions/3.9.7/lib/python3.9/site-packages/matplotlib/colors.py:187\u001b[0m, in \u001b[0;36mto_rgba\u001b[0;34m(c, alpha)\u001b[0m\n\u001b[1;32m    186\u001b[0m \u001b[39mif\u001b[39;00m rgba \u001b[39mis\u001b[39;00m \u001b[39mNone\u001b[39;00m:  \u001b[39m# Suppress exception chaining of cache lookup failure.\u001b[39;00m\n\u001b[0;32m--> 187\u001b[0m     rgba \u001b[39m=\u001b[39m _to_rgba_no_colorcycle(c, alpha)\n\u001b[1;32m    188\u001b[0m     \u001b[39mtry\u001b[39;00m:\n",
      "File \u001b[0;32m~/.pyenv/versions/3.9.7/lib/python3.9/site-packages/matplotlib/colors.py:269\u001b[0m, in \u001b[0;36m_to_rgba_no_colorcycle\u001b[0;34m(c, alpha)\u001b[0m\n\u001b[1;32m    268\u001b[0m \u001b[39mif\u001b[39;00m \u001b[39mnot\u001b[39;00m np\u001b[39m.\u001b[39miterable(c):\n\u001b[0;32m--> 269\u001b[0m     \u001b[39mraise\u001b[39;00m \u001b[39mValueError\u001b[39;00m(\u001b[39mf\u001b[39m\u001b[39m\"\u001b[39m\u001b[39mInvalid RGBA argument: \u001b[39m\u001b[39m{\u001b[39;00morig_c\u001b[39m!r}\u001b[39;00m\u001b[39m\"\u001b[39m)\n\u001b[1;32m    270\u001b[0m \u001b[39mif\u001b[39;00m \u001b[39mlen\u001b[39m(c) \u001b[39mnot\u001b[39;00m \u001b[39min\u001b[39;00m [\u001b[39m3\u001b[39m, \u001b[39m4\u001b[39m]:\n",
      "\u001b[0;31mValueError\u001b[0m: Invalid RGBA argument: 0.015445799351414151",
      "\nThe above exception was the direct cause of the following exception:\n",
      "\u001b[0;31mValueError\u001b[0m                                Traceback (most recent call last)",
      "\u001b[1;32m/mnt/c/Users/thepi/OneDrive/Documents/Python/Hockey/Big-Data-Cup-2022/code/hockey_pipeline.ipynb Cell 3\u001b[0m in \u001b[0;36m<cell line: 1>\u001b[0;34m()\u001b[0m\n\u001b[0;32m----> <a href='vscode-notebook-cell://wsl%2Bubuntu/mnt/c/Users/thepi/OneDrive/Documents/Python/Hockey/Big-Data-Cup-2022/code/hockey_pipeline.ipynb#W4sdnNjb2RlLXJlbW90ZQ%3D%3D?line=0'>1</a>\u001b[0m plt\u001b[39m.\u001b[39;49mscatter(all_tracks\u001b[39m.\u001b[39;49mgrid[:,\u001b[39m0\u001b[39;49m], all_tracks\u001b[39m.\u001b[39;49mgrid[:,\u001b[39m1\u001b[39;49m], color \u001b[39m=\u001b[39;49m all_tracks\u001b[39m.\u001b[39;49mgrid[:,\u001b[39m3\u001b[39;49m])\n",
      "File \u001b[0;32m~/.pyenv/versions/3.9.7/lib/python3.9/site-packages/matplotlib/pyplot.py:2819\u001b[0m, in \u001b[0;36mscatter\u001b[0;34m(x, y, s, c, marker, cmap, norm, vmin, vmax, alpha, linewidths, edgecolors, plotnonfinite, data, **kwargs)\u001b[0m\n\u001b[1;32m   2814\u001b[0m \u001b[39m@_copy_docstring_and_deprecators\u001b[39m(Axes\u001b[39m.\u001b[39mscatter)\n\u001b[1;32m   2815\u001b[0m \u001b[39mdef\u001b[39;00m \u001b[39mscatter\u001b[39m(\n\u001b[1;32m   2816\u001b[0m         x, y, s\u001b[39m=\u001b[39m\u001b[39mNone\u001b[39;00m, c\u001b[39m=\u001b[39m\u001b[39mNone\u001b[39;00m, marker\u001b[39m=\u001b[39m\u001b[39mNone\u001b[39;00m, cmap\u001b[39m=\u001b[39m\u001b[39mNone\u001b[39;00m, norm\u001b[39m=\u001b[39m\u001b[39mNone\u001b[39;00m,\n\u001b[1;32m   2817\u001b[0m         vmin\u001b[39m=\u001b[39m\u001b[39mNone\u001b[39;00m, vmax\u001b[39m=\u001b[39m\u001b[39mNone\u001b[39;00m, alpha\u001b[39m=\u001b[39m\u001b[39mNone\u001b[39;00m, linewidths\u001b[39m=\u001b[39m\u001b[39mNone\u001b[39;00m, \u001b[39m*\u001b[39m,\n\u001b[1;32m   2818\u001b[0m         edgecolors\u001b[39m=\u001b[39m\u001b[39mNone\u001b[39;00m, plotnonfinite\u001b[39m=\u001b[39m\u001b[39mFalse\u001b[39;00m, data\u001b[39m=\u001b[39m\u001b[39mNone\u001b[39;00m, \u001b[39m*\u001b[39m\u001b[39m*\u001b[39mkwargs):\n\u001b[0;32m-> 2819\u001b[0m     __ret \u001b[39m=\u001b[39m gca()\u001b[39m.\u001b[39;49mscatter(\n\u001b[1;32m   2820\u001b[0m         x, y, s\u001b[39m=\u001b[39;49ms, c\u001b[39m=\u001b[39;49mc, marker\u001b[39m=\u001b[39;49mmarker, cmap\u001b[39m=\u001b[39;49mcmap, norm\u001b[39m=\u001b[39;49mnorm,\n\u001b[1;32m   2821\u001b[0m         vmin\u001b[39m=\u001b[39;49mvmin, vmax\u001b[39m=\u001b[39;49mvmax, alpha\u001b[39m=\u001b[39;49malpha, linewidths\u001b[39m=\u001b[39;49mlinewidths,\n\u001b[1;32m   2822\u001b[0m         edgecolors\u001b[39m=\u001b[39;49medgecolors, plotnonfinite\u001b[39m=\u001b[39;49mplotnonfinite,\n\u001b[1;32m   2823\u001b[0m         \u001b[39m*\u001b[39;49m\u001b[39m*\u001b[39;49m({\u001b[39m\"\u001b[39;49m\u001b[39mdata\u001b[39;49m\u001b[39m\"\u001b[39;49m: data} \u001b[39mif\u001b[39;49;00m data \u001b[39mis\u001b[39;49;00m \u001b[39mnot\u001b[39;49;00m \u001b[39mNone\u001b[39;49;00m \u001b[39melse\u001b[39;49;00m {}), \u001b[39m*\u001b[39;49m\u001b[39m*\u001b[39;49mkwargs)\n\u001b[1;32m   2824\u001b[0m     sci(__ret)\n\u001b[1;32m   2825\u001b[0m     \u001b[39mreturn\u001b[39;00m __ret\n",
      "File \u001b[0;32m~/.pyenv/versions/3.9.7/lib/python3.9/site-packages/matplotlib/__init__.py:1412\u001b[0m, in \u001b[0;36m_preprocess_data.<locals>.inner\u001b[0;34m(ax, data, *args, **kwargs)\u001b[0m\n\u001b[1;32m   1409\u001b[0m \u001b[39m@functools\u001b[39m\u001b[39m.\u001b[39mwraps(func)\n\u001b[1;32m   1410\u001b[0m \u001b[39mdef\u001b[39;00m \u001b[39minner\u001b[39m(ax, \u001b[39m*\u001b[39margs, data\u001b[39m=\u001b[39m\u001b[39mNone\u001b[39;00m, \u001b[39m*\u001b[39m\u001b[39m*\u001b[39mkwargs):\n\u001b[1;32m   1411\u001b[0m     \u001b[39mif\u001b[39;00m data \u001b[39mis\u001b[39;00m \u001b[39mNone\u001b[39;00m:\n\u001b[0;32m-> 1412\u001b[0m         \u001b[39mreturn\u001b[39;00m func(ax, \u001b[39m*\u001b[39;49m\u001b[39mmap\u001b[39;49m(sanitize_sequence, args), \u001b[39m*\u001b[39;49m\u001b[39m*\u001b[39;49mkwargs)\n\u001b[1;32m   1414\u001b[0m     bound \u001b[39m=\u001b[39m new_sig\u001b[39m.\u001b[39mbind(ax, \u001b[39m*\u001b[39margs, \u001b[39m*\u001b[39m\u001b[39m*\u001b[39mkwargs)\n\u001b[1;32m   1415\u001b[0m     auto_label \u001b[39m=\u001b[39m (bound\u001b[39m.\u001b[39marguments\u001b[39m.\u001b[39mget(label_namer)\n\u001b[1;32m   1416\u001b[0m                   \u001b[39mor\u001b[39;00m bound\u001b[39m.\u001b[39mkwargs\u001b[39m.\u001b[39mget(label_namer))\n",
      "File \u001b[0;32m~/.pyenv/versions/3.9.7/lib/python3.9/site-packages/matplotlib/axes/_axes.py:4380\u001b[0m, in \u001b[0;36mAxes.scatter\u001b[0;34m(self, x, y, s, c, marker, cmap, norm, vmin, vmax, alpha, linewidths, edgecolors, plotnonfinite, **kwargs)\u001b[0m\n\u001b[1;32m   4377\u001b[0m \u001b[39mif\u001b[39;00m edgecolors \u001b[39mis\u001b[39;00m \u001b[39mNone\u001b[39;00m:\n\u001b[1;32m   4378\u001b[0m     orig_edgecolor \u001b[39m=\u001b[39m kwargs\u001b[39m.\u001b[39mget(\u001b[39m'\u001b[39m\u001b[39medgecolor\u001b[39m\u001b[39m'\u001b[39m, \u001b[39mNone\u001b[39;00m)\n\u001b[1;32m   4379\u001b[0m c, colors, edgecolors \u001b[39m=\u001b[39m \\\n\u001b[0;32m-> 4380\u001b[0m     \u001b[39mself\u001b[39;49m\u001b[39m.\u001b[39;49m_parse_scatter_color_args(\n\u001b[1;32m   4381\u001b[0m         c, edgecolors, kwargs, x\u001b[39m.\u001b[39;49msize,\n\u001b[1;32m   4382\u001b[0m         get_next_color_func\u001b[39m=\u001b[39;49m\u001b[39mself\u001b[39;49m\u001b[39m.\u001b[39;49m_get_patches_for_fill\u001b[39m.\u001b[39;49mget_next_color)\n\u001b[1;32m   4384\u001b[0m \u001b[39mif\u001b[39;00m plotnonfinite \u001b[39mand\u001b[39;00m colors \u001b[39mis\u001b[39;00m \u001b[39mNone\u001b[39;00m:\n\u001b[1;32m   4385\u001b[0m     c \u001b[39m=\u001b[39m np\u001b[39m.\u001b[39mma\u001b[39m.\u001b[39mmasked_invalid(c)\n",
      "File \u001b[0;32m~/.pyenv/versions/3.9.7/lib/python3.9/site-packages/matplotlib/axes/_axes.py:4155\u001b[0m, in \u001b[0;36mAxes._parse_scatter_color_args\u001b[0;34m(c, edgecolors, kwargs, xsize, get_next_color_func)\u001b[0m\n\u001b[1;32m   4153\u001b[0m     mcolors\u001b[39m.\u001b[39mto_rgba_array(kwcolor)\n\u001b[1;32m   4154\u001b[0m \u001b[39mexcept\u001b[39;00m \u001b[39mValueError\u001b[39;00m \u001b[39mas\u001b[39;00m err:\n\u001b[0;32m-> 4155\u001b[0m     \u001b[39mraise\u001b[39;00m \u001b[39mValueError\u001b[39;00m(\n\u001b[1;32m   4156\u001b[0m         \u001b[39m\"\u001b[39m\u001b[39m'\u001b[39m\u001b[39mcolor\u001b[39m\u001b[39m'\u001b[39m\u001b[39m kwarg must be a color or sequence of color \u001b[39m\u001b[39m\"\u001b[39m\n\u001b[1;32m   4157\u001b[0m         \u001b[39m\"\u001b[39m\u001b[39mspecs.  For a sequence of values to be color-mapped, use \u001b[39m\u001b[39m\"\u001b[39m\n\u001b[1;32m   4158\u001b[0m         \u001b[39m\"\u001b[39m\u001b[39mthe \u001b[39m\u001b[39m'\u001b[39m\u001b[39mc\u001b[39m\u001b[39m'\u001b[39m\u001b[39m argument instead.\u001b[39m\u001b[39m\"\u001b[39m) \u001b[39mfrom\u001b[39;00m \u001b[39merr\u001b[39;00m\n\u001b[1;32m   4159\u001b[0m \u001b[39mif\u001b[39;00m edgecolors \u001b[39mis\u001b[39;00m \u001b[39mNone\u001b[39;00m:\n\u001b[1;32m   4160\u001b[0m     edgecolors \u001b[39m=\u001b[39m kwcolor\n",
      "\u001b[0;31mValueError\u001b[0m: 'color' kwarg must be a color or sequence of color specs.  For a sequence of values to be color-mapped, use the 'c' argument instead."
     ]
    },
    {
     "data": {
      "image/png": "[encoded data removed]",
      "text/plain": [
       "<Figure size 432x288 with 1 Axes>"
      ]
     },
     "metadata": {
      "needs_background": "light"
     },
     "output_type": "display_data"
    }
   ],
   "source": [
    "plt.scatter(all_tracks.grid[:,0], all_tracks.grid[:,1], c = all_tracks.grid[:,3], cmap = 'RdBu')"
   ]
  },
  {
   "cell_type": "code",
   "execution_count": 102,
   "metadata": {},
   "outputs": [
    {
     "name": "stderr",
     "output_type": "stream",
     "text": [
      "/home/picagrad/.pyenv/versions/3.9.7/lib/python3.9/site-packages/scipy/interpolate/_fitpack_impl.py:977: RuntimeWarning: No more knots can be added because the additional knot would\n",
      "coincide with an old one. Probable cause: s too small or too large\n",
      "a weight to an inaccurate data point. (fp>s)\n",
      "\tkx,ky=1,1 nx,ny=4,4 m=1304 fp=0.110278 s=0.000000\n",
      "  warnings.warn(RuntimeWarning(_iermess2[ierm][0] + _mess))\n"
     ]
    },
    {
     "data": {
      "text/plain": [
       "<matplotlib.image.AxesImage at 0x7f130d75a730>"
      ]
     },
     "execution_count": 102,
     "metadata": {},
     "output_type": "execute_result"
    },
    {
     "data": {
      "image/png": "[encoded data removed]",
      "text/plain": [
       "<Figure size 432x288 with 1 Axes>"
      ]
     },
     "metadata": {
      "needs_background": "light"
     },
     "output_type": "display_data"
    }
   ],
   "source": [
    "from matplotlib import pyplot as plt\n",
    "from scipy.ndimage.filters import gaussian_filter\n",
    "from scipy.interpolate import interp2d\n",
    "\n",
    "f = interp2d(trcks.grid[:,0], trcks.grid[:,1], trcks.grid[:,3], kind=\"linear\")\n",
    "x  = np.arange(0,100,0.1)\n",
    "y = np.arange(0,85,0.1)\n",
    "z = f(x,y)\n",
    "plt.imshow(z,\n",
    "            extent = [0,100,0,85],\n",
    "            origin = 'lower',\n",
    "            interpolation = \"bicubic\")"
   ]
  },
  {
   "cell_type": "code",
   "execution_count": 38,
   "metadata": {},
   "outputs": [],
   "source": [
    "ctrl, all_ctrl, dists, base_probs, ranks = trcks.grid[-np.pi].get_metrics(trcks.tracks)"
   ]
  }
 ],
 "metadata": {
  "kernelspec": {
   "display_name": "Python 3.9.7 64-bit ('3.9.7')",
   "language": "python",
   "name": "python3"
  },
  "language_info": {
   "codemirror_mode": {
    "name": "ipython",
    "version": 3
   },
   "file_extension": ".py",
   "mimetype": "text/x-python",
   "name": "python",
   "nbconvert_exporter": "python",
   "pygments_lexer": "ipython3",
   "version": "3.9.7"
  },
  "orig_nbformat": 4,
  "vscode": {
   "interpreter": {
    "hash": "b633f80ae13d173b90cd4fe190dd4b8d5200b9c6f990b0f6b6928a64e4b3fca6"
   }
  }
 },
 "nbformat": 4,
 "nbformat_minor": 2
}
